{
  "nbformat": 4,
  "nbformat_minor": 0,
  "metadata": {
    "colab": {
      "provenance": [],
      "authorship_tag": "ABX9TyOQUsEw/LuUVxmjCWhFwJ3y",
      "include_colab_link": true
    },
    "kernelspec": {
      "name": "python3",
      "display_name": "Python 3"
    },
    "language_info": {
      "name": "python"
    }
  },
  "cells": [
    {
      "cell_type": "markdown",
      "metadata": {
        "id": "view-in-github",
        "colab_type": "text"
      },
      "source": [
        "<a href=\"https://colab.research.google.com/github/starohit/Machine-Learning/blob/main/Using_a_Model.ipynb\" target=\"_parent\"><img src=\"https://colab.research.google.com/assets/colab-badge.svg\" alt=\"Open In Colab\"/></a>"
      ]
    },
    {
      "cell_type": "code",
      "execution_count": 1,
      "metadata": {
        "colab": {
          "base_uri": "https://localhost:8080/",
          "height": 744
        },
        "id": "1RURS7lOEibr",
        "outputId": "32bfc132-c440-4887-99d2-fe9316e6c81d"
      },
      "outputs": [
        {
          "output_type": "stream",
          "name": "stdout",
          "text": [
            "Looking in indexes: https://pypi.org/simple, https://us-python.pkg.dev/colab-wheels/public/simple/\n",
            "Requirement already satisfied: statsmodels in /usr/local/lib/python3.7/dist-packages (0.12.2)\n",
            "Requirement already satisfied: pandas>=0.21 in /usr/local/lib/python3.7/dist-packages (from statsmodels) (1.3.5)\n",
            "Requirement already satisfied: scipy>=1.1 in /usr/local/lib/python3.7/dist-packages (from statsmodels) (1.7.3)\n",
            "Requirement already satisfied: numpy>=1.15 in /usr/local/lib/python3.7/dist-packages (from statsmodels) (1.21.6)\n",
            "Requirement already satisfied: patsy>=0.5 in /usr/local/lib/python3.7/dist-packages (from statsmodels) (0.5.3)\n",
            "Requirement already satisfied: pytz>=2017.3 in /usr/local/lib/python3.7/dist-packages (from pandas>=0.21->statsmodels) (2022.4)\n",
            "Requirement already satisfied: python-dateutil>=2.7.3 in /usr/local/lib/python3.7/dist-packages (from pandas>=0.21->statsmodels) (2.8.2)\n",
            "Requirement already satisfied: six in /usr/local/lib/python3.7/dist-packages (from patsy>=0.5->statsmodels) (1.15.0)\n",
            "--2022-10-17 08:32:53--  https://raw.githubusercontent.com/MicrosoftDocs/mslearn-introduction-to-machine-learning/main/graphing.py\n",
            "Resolving raw.githubusercontent.com (raw.githubusercontent.com)... 185.199.108.133, 185.199.109.133, 185.199.110.133, ...\n",
            "Connecting to raw.githubusercontent.com (raw.githubusercontent.com)|185.199.108.133|:443... connected.\n",
            "HTTP request sent, awaiting response... 200 OK\n",
            "Length: 21511 (21K) [text/plain]\n",
            "Saving to: ‘graphing.py’\n",
            "\n",
            "graphing.py         100%[===================>]  21.01K  --.-KB/s    in 0.001s  \n",
            "\n",
            "2022-10-17 08:32:53 (21.7 MB/s) - ‘graphing.py’ saved [21511/21511]\n",
            "\n",
            "--2022-10-17 08:32:54--  https://raw.githubusercontent.com/MicrosoftDocs/mslearn-introduction-to-machine-learning/main/Data/doggy-boot-harness.csv\n",
            "Resolving raw.githubusercontent.com (raw.githubusercontent.com)... 185.199.111.133, 185.199.110.133, 185.199.109.133, ...\n",
            "Connecting to raw.githubusercontent.com (raw.githubusercontent.com)|185.199.111.133|:443... connected.\n",
            "HTTP request sent, awaiting response... 200 OK\n",
            "Length: 838 [text/plain]\n",
            "Saving to: ‘doggy-boot-harness.csv’\n",
            "\n",
            "doggy-boot-harness. 100%[===================>]     838  --.-KB/s    in 0s      \n",
            "\n",
            "2022-10-17 08:32:54 (26.4 MB/s) - ‘doggy-boot-harness.csv’ saved [838/838]\n",
            "\n"
          ]
        },
        {
          "output_type": "execute_result",
          "data": {
            "text/plain": [
              "   boot_size  harness_size     sex  age_years\n",
              "0         39            58    male       12.0\n",
              "1         38            58    male        9.6\n",
              "2         37            52  female        8.6\n",
              "3         39            58    male       10.2\n",
              "4         38            57    male        7.8"
            ],
            "text/html": [
              "\n",
              "  <div id=\"df-6bee0822-bcd9-4dbd-877d-d65e42ff69ae\">\n",
              "    <div class=\"colab-df-container\">\n",
              "      <div>\n",
              "<style scoped>\n",
              "    .dataframe tbody tr th:only-of-type {\n",
              "        vertical-align: middle;\n",
              "    }\n",
              "\n",
              "    .dataframe tbody tr th {\n",
              "        vertical-align: top;\n",
              "    }\n",
              "\n",
              "    .dataframe thead th {\n",
              "        text-align: right;\n",
              "    }\n",
              "</style>\n",
              "<table border=\"1\" class=\"dataframe\">\n",
              "  <thead>\n",
              "    <tr style=\"text-align: right;\">\n",
              "      <th></th>\n",
              "      <th>boot_size</th>\n",
              "      <th>harness_size</th>\n",
              "      <th>sex</th>\n",
              "      <th>age_years</th>\n",
              "    </tr>\n",
              "  </thead>\n",
              "  <tbody>\n",
              "    <tr>\n",
              "      <th>0</th>\n",
              "      <td>39</td>\n",
              "      <td>58</td>\n",
              "      <td>male</td>\n",
              "      <td>12.0</td>\n",
              "    </tr>\n",
              "    <tr>\n",
              "      <th>1</th>\n",
              "      <td>38</td>\n",
              "      <td>58</td>\n",
              "      <td>male</td>\n",
              "      <td>9.6</td>\n",
              "    </tr>\n",
              "    <tr>\n",
              "      <th>2</th>\n",
              "      <td>37</td>\n",
              "      <td>52</td>\n",
              "      <td>female</td>\n",
              "      <td>8.6</td>\n",
              "    </tr>\n",
              "    <tr>\n",
              "      <th>3</th>\n",
              "      <td>39</td>\n",
              "      <td>58</td>\n",
              "      <td>male</td>\n",
              "      <td>10.2</td>\n",
              "    </tr>\n",
              "    <tr>\n",
              "      <th>4</th>\n",
              "      <td>38</td>\n",
              "      <td>57</td>\n",
              "      <td>male</td>\n",
              "      <td>7.8</td>\n",
              "    </tr>\n",
              "  </tbody>\n",
              "</table>\n",
              "</div>\n",
              "      <button class=\"colab-df-convert\" onclick=\"convertToInteractive('df-6bee0822-bcd9-4dbd-877d-d65e42ff69ae')\"\n",
              "              title=\"Convert this dataframe to an interactive table.\"\n",
              "              style=\"display:none;\">\n",
              "        \n",
              "  <svg xmlns=\"http://www.w3.org/2000/svg\" height=\"24px\"viewBox=\"0 0 24 24\"\n",
              "       width=\"24px\">\n",
              "    <path d=\"M0 0h24v24H0V0z\" fill=\"none\"/>\n",
              "    <path d=\"M18.56 5.44l.94 2.06.94-2.06 2.06-.94-2.06-.94-.94-2.06-.94 2.06-2.06.94zm-11 1L8.5 8.5l.94-2.06 2.06-.94-2.06-.94L8.5 2.5l-.94 2.06-2.06.94zm10 10l.94 2.06.94-2.06 2.06-.94-2.06-.94-.94-2.06-.94 2.06-2.06.94z\"/><path d=\"M17.41 7.96l-1.37-1.37c-.4-.4-.92-.59-1.43-.59-.52 0-1.04.2-1.43.59L10.3 9.45l-7.72 7.72c-.78.78-.78 2.05 0 2.83L4 21.41c.39.39.9.59 1.41.59.51 0 1.02-.2 1.41-.59l7.78-7.78 2.81-2.81c.8-.78.8-2.07 0-2.86zM5.41 20L4 18.59l7.72-7.72 1.47 1.35L5.41 20z\"/>\n",
              "  </svg>\n",
              "      </button>\n",
              "      \n",
              "  <style>\n",
              "    .colab-df-container {\n",
              "      display:flex;\n",
              "      flex-wrap:wrap;\n",
              "      gap: 12px;\n",
              "    }\n",
              "\n",
              "    .colab-df-convert {\n",
              "      background-color: #E8F0FE;\n",
              "      border: none;\n",
              "      border-radius: 50%;\n",
              "      cursor: pointer;\n",
              "      display: none;\n",
              "      fill: #1967D2;\n",
              "      height: 32px;\n",
              "      padding: 0 0 0 0;\n",
              "      width: 32px;\n",
              "    }\n",
              "\n",
              "    .colab-df-convert:hover {\n",
              "      background-color: #E2EBFA;\n",
              "      box-shadow: 0px 1px 2px rgba(60, 64, 67, 0.3), 0px 1px 3px 1px rgba(60, 64, 67, 0.15);\n",
              "      fill: #174EA6;\n",
              "    }\n",
              "\n",
              "    [theme=dark] .colab-df-convert {\n",
              "      background-color: #3B4455;\n",
              "      fill: #D2E3FC;\n",
              "    }\n",
              "\n",
              "    [theme=dark] .colab-df-convert:hover {\n",
              "      background-color: #434B5C;\n",
              "      box-shadow: 0px 1px 3px 1px rgba(0, 0, 0, 0.15);\n",
              "      filter: drop-shadow(0px 1px 2px rgba(0, 0, 0, 0.3));\n",
              "      fill: #FFFFFF;\n",
              "    }\n",
              "  </style>\n",
              "\n",
              "      <script>\n",
              "        const buttonEl =\n",
              "          document.querySelector('#df-6bee0822-bcd9-4dbd-877d-d65e42ff69ae button.colab-df-convert');\n",
              "        buttonEl.style.display =\n",
              "          google.colab.kernel.accessAllowed ? 'block' : 'none';\n",
              "\n",
              "        async function convertToInteractive(key) {\n",
              "          const element = document.querySelector('#df-6bee0822-bcd9-4dbd-877d-d65e42ff69ae');\n",
              "          const dataTable =\n",
              "            await google.colab.kernel.invokeFunction('convertToInteractive',\n",
              "                                                     [key], {});\n",
              "          if (!dataTable) return;\n",
              "\n",
              "          const docLinkHtml = 'Like what you see? Visit the ' +\n",
              "            '<a target=\"_blank\" href=https://colab.research.google.com/notebooks/data_table.ipynb>data table notebook</a>'\n",
              "            + ' to learn more about interactive tables.';\n",
              "          element.innerHTML = '';\n",
              "          dataTable['output_type'] = 'display_data';\n",
              "          await google.colab.output.renderOutput(dataTable, element);\n",
              "          const docLink = document.createElement('div');\n",
              "          docLink.innerHTML = docLinkHtml;\n",
              "          element.appendChild(docLink);\n",
              "        }\n",
              "      </script>\n",
              "    </div>\n",
              "  </div>\n",
              "  "
            ]
          },
          "metadata": {},
          "execution_count": 1
        }
      ],
      "source": [
        "import pandas\n",
        "!pip install statsmodels\n",
        "!wget https://raw.githubusercontent.com/MicrosoftDocs/mslearn-introduction-to-machine-learning/main/graphing.py\n",
        "!wget https://raw.githubusercontent.com/MicrosoftDocs/mslearn-introduction-to-machine-learning/main/Data/doggy-boot-harness.csv\n",
        "\n",
        "# Load a file containing dog's boot and harness sizes\n",
        "data = pandas.read_csv('doggy-boot-harness.csv')\n",
        "\n",
        "# Print the first few rows\n",
        "data.head()"
      ]
    },
    {
      "cell_type": "code",
      "source": [
        "import statsmodels.formula.api as smf\n",
        "\n",
        "# Fit a simple model that finds a linear relationship\n",
        "# between boot size and harness size, which we can use later\n",
        "# to predict a dog's boot size, given their harness size\n",
        "model = smf.ols(formula = \"boot_size ~ harness_size\", data = data).fit()\n",
        "\n",
        "print(\"Model trained!\")"
      ],
      "metadata": {
        "colab": {
          "base_uri": "https://localhost:8080/"
        },
        "id": "m0KVrV-TFqO4",
        "outputId": "0db0be34-db1d-4538-c55f-80ec15148d0d"
      },
      "execution_count": 2,
      "outputs": [
        {
          "output_type": "stream",
          "name": "stdout",
          "text": [
            "Model trained!\n"
          ]
        }
      ]
    },
    {
      "cell_type": "code",
      "source": [
        "import joblib\n",
        "\n",
        "model_filename = './avalanche_dog_boot_model.pkl'\n",
        "joblib.dump(model, model_filename)\n",
        "\n",
        "print(\"Model saved!\")"
      ],
      "metadata": {
        "colab": {
          "base_uri": "https://localhost:8080/"
        },
        "id": "yyR0aVosHooi",
        "outputId": "c8851e99-38f3-4969-8dcb-3b0a80fdeead"
      },
      "execution_count": 3,
      "outputs": [
        {
          "output_type": "stream",
          "name": "stdout",
          "text": [
            "Model saved!\n"
          ]
        }
      ]
    },
    {
      "cell_type": "code",
      "source": [
        "model_loaded = joblib.load(model_filename)\n",
        "\n",
        "print(\"We have loaded a model with the following parameters:\")\n",
        "print(model_loaded.params)"
      ],
      "metadata": {
        "colab": {
          "base_uri": "https://localhost:8080/"
        },
        "id": "R41NR0stHrUU",
        "outputId": "9cd799bc-e2bf-42f9-fa03-ba05db332ca8"
      },
      "execution_count": 4,
      "outputs": [
        {
          "output_type": "stream",
          "name": "stdout",
          "text": [
            "We have loaded a model with the following parameters:\n",
            "Intercept       5.719110\n",
            "harness_size    0.585925\n",
            "dtype: float64\n"
          ]
        }
      ]
    },
    {
      "cell_type": "code",
      "source": [
        "# Let's write a function that loads and uses our model\n",
        "def load_model_and_predict(harness_size):\n",
        "    '''\n",
        "    This function loads a pretrained model. It uses the model\n",
        "    with the customer's dog's harness size to predict the size of\n",
        "    boots that will fit that dog.\n",
        "\n",
        "    harness_size: The dog harness size, in cm \n",
        "    '''\n",
        "\n",
        "    # Load the model from file and print basic information about it\n",
        "    loaded_model = joblib.load(model_filename)\n",
        "\n",
        "    print(\"We've loaded a model with the following parameters:\")\n",
        "    print(loaded_model.params)\n",
        "\n",
        "    # Prepare data for the model\n",
        "    inputs = {\"harness_size\":[harness_size]} \n",
        "\n",
        "    # Use the model to make a prediction\n",
        "    predicted_boot_size = loaded_model.predict(inputs)[0]\n",
        "\n",
        "    return predicted_boot_size\n",
        "\n",
        "# Practice using our model\n",
        "predicted_boot_size = load_model_and_predict(45)\n",
        "\n",
        "print(\"Predicted dog boot size:\", predicted_boot_size)"
      ],
      "metadata": {
        "colab": {
          "base_uri": "https://localhost:8080/"
        },
        "id": "8BF3ubyJIBV_",
        "outputId": "aa55e6fe-6d2e-495d-8c29-69d0c26bfa47"
      },
      "execution_count": 5,
      "outputs": [
        {
          "output_type": "stream",
          "name": "stdout",
          "text": [
            "We've loaded a model with the following parameters:\n",
            "Intercept       5.719110\n",
            "harness_size    0.585925\n",
            "dtype: float64\n",
            "Predicted dog boot size: 32.08575356590478\n"
          ]
        }
      ]
    },
    {
      "cell_type": "code",
      "source": [
        "def check_size_of_boots(selected_harness_size, selected_boot_size):\n",
        "    '''\n",
        "    Calculates whether the customer has chosen a pair of doggy boots that \n",
        "    are a sensible size. This works by estimating the dog's actual boot \n",
        "    size from their harness size.\n",
        "\n",
        "    This returns a message for the customer that should be shown before\n",
        "    they complete their payment \n",
        "\n",
        "    selected_harness_size: The size of the harness the customer wants to buy\n",
        "    selected_boot_size: The size of the doggy boots the customer wants to buy\n",
        "    '''\n",
        "\n",
        "    # Estimate the customer's dog's boot size\n",
        "    estimated_boot_size = load_model_and_predict(selected_harness_size)\n",
        "\n",
        "    # Round to the nearest whole number because we don't sell partial sizes\n",
        "    estimated_boot_size = int(round(estimated_boot_size))\n",
        "\n",
        "    # Check if the boot size selected is appropriate\n",
        "    if selected_boot_size == estimated_boot_size:\n",
        "        # The selected boots are probably OK\n",
        "        return \"Great choice! We think these boots will fit your avalanche dog well.\"\n",
        "\n",
        "    if selected_boot_size < estimated_boot_size:\n",
        "        # Selected boots might be too small \n",
        "        return \"The boots you have selected might be TOO SMALL for a dog as \"\\\n",
        "               f\"big as yours. We recommend a doggy boots size of {estimated_boot_size}.\"\n",
        "\n",
        "    if selected_boot_size > estimated_boot_size:\n",
        "        # Selected boots might be too big \n",
        "        return \"The boots you have selected might be TOO BIG for a dog as \"\\\n",
        "               f\"small as yours. We recommend a doggy boots size of {estimated_boot_size}.\"\n",
        "    \n",
        "\n",
        "# Practice using our new warning system\n",
        "check_size_of_boots(selected_harness_size=55, selected_boot_size=38)"
      ],
      "metadata": {
        "colab": {
          "base_uri": "https://localhost:8080/",
          "height": 104
        },
        "id": "RB9sZx4iPWx_",
        "outputId": "42c2ffa7-667f-4bbd-a74e-45c897bae83d"
      },
      "execution_count": 8,
      "outputs": [
        {
          "output_type": "stream",
          "name": "stdout",
          "text": [
            "We've loaded a model with the following parameters:\n",
            "Intercept       5.719110\n",
            "harness_size    0.585925\n",
            "dtype: float64\n"
          ]
        },
        {
          "output_type": "execute_result",
          "data": {
            "text/plain": [
              "'Great choice! We think these boots will fit your avalanche dog well.'"
            ],
            "application/vnd.google.colaboratory.intrinsic+json": {
              "type": "string"
            }
          },
          "metadata": {},
          "execution_count": 8
        }
      ]
    }
  ]
}
